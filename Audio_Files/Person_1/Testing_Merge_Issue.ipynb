{
 "cells": [
  {
   "cell_type": "code",
   "execution_count": 16,
   "id": "f1272282",
   "metadata": {},
   "outputs": [],
   "source": [
    "import pandas as pd\n",
    "from difflib import SequenceMatcher\n",
    "import os"
   ]
  },
  {
   "cell_type": "code",
   "execution_count": 2,
   "id": "95f62f87",
   "metadata": {},
   "outputs": [],
   "source": [
    "df1 = pd.read_csv(f\"Input_Sentences/Input_Sentences.csv\")"
   ]
  },
  {
   "cell_type": "code",
   "execution_count": 3,
   "id": "4b307960",
   "metadata": {},
   "outputs": [],
   "source": [
    "df2 = pd.read_excel(f\"Comparison_Sentences/SIT.xlsx\")"
   ]
  },
  {
   "cell_type": "code",
   "execution_count": 4,
   "id": "a872d944",
   "metadata": {},
   "outputs": [
    {
     "data": {
      "text/plain": [
       "Index(['INPUT_SENTENCE', 'NAME'], dtype='object')"
      ]
     },
     "execution_count": 4,
     "metadata": {},
     "output_type": "execute_result"
    }
   ],
   "source": [
    "df1.columns"
   ]
  },
  {
   "cell_type": "code",
   "execution_count": 5,
   "id": "4afde169",
   "metadata": {},
   "outputs": [
    {
     "data": {
      "text/plain": [
       "Index(['SENTENCES', 'NAME'], dtype='object')"
      ]
     },
     "execution_count": 5,
     "metadata": {},
     "output_type": "execute_result"
    }
   ],
   "source": [
    "df2.columns"
   ]
  },
  {
   "cell_type": "code",
   "execution_count": 7,
   "id": "50f44e66",
   "metadata": {},
   "outputs": [],
   "source": [
    "df3 = pd.merge(left = df1, right = df2, left_on = 'NAME', right_on = 'NAME' )"
   ]
  },
  {
   "cell_type": "code",
   "execution_count": 8,
   "id": "e9140823",
   "metadata": {},
   "outputs": [
    {
     "data": {
      "text/html": [
       "<div>\n",
       "<style scoped>\n",
       "    .dataframe tbody tr th:only-of-type {\n",
       "        vertical-align: middle;\n",
       "    }\n",
       "\n",
       "    .dataframe tbody tr th {\n",
       "        vertical-align: top;\n",
       "    }\n",
       "\n",
       "    .dataframe thead th {\n",
       "        text-align: right;\n",
       "    }\n",
       "</style>\n",
       "<table border=\"1\" class=\"dataframe\">\n",
       "  <thead>\n",
       "    <tr style=\"text-align: right;\">\n",
       "      <th></th>\n",
       "      <th>INPUT_SENTENCE</th>\n",
       "      <th>NAME</th>\n",
       "      <th>SENTENCES</th>\n",
       "    </tr>\n",
       "  </thead>\n",
       "  <tbody>\n",
       "    <tr>\n",
       "      <th>0</th>\n",
       "      <td>Test1</td>\n",
       "      <td>P1_W1_S4</td>\n",
       "      <td>Enjoy the fair weather while in the tropics.</td>\n",
       "    </tr>\n",
       "    <tr>\n",
       "      <th>1</th>\n",
       "      <td>Test2</td>\n",
       "      <td>P1_W1_S3</td>\n",
       "      <td>You're used to being on the field.</td>\n",
       "    </tr>\n",
       "    <tr>\n",
       "      <th>2</th>\n",
       "      <td>Test3</td>\n",
       "      <td>P1_W1_S2</td>\n",
       "      <td>The ballet is about to begin.</td>\n",
       "    </tr>\n",
       "    <tr>\n",
       "      <th>3</th>\n",
       "      <td>Test4</td>\n",
       "      <td>P1_W1_S1</td>\n",
       "      <td>We picked grapes for wine</td>\n",
       "    </tr>\n",
       "    <tr>\n",
       "      <th>4</th>\n",
       "      <td>Test5</td>\n",
       "      <td>P1_W2_S4</td>\n",
       "      <td>he is capable and willing to make decisions.</td>\n",
       "    </tr>\n",
       "    <tr>\n",
       "      <th>5</th>\n",
       "      <td>Test6</td>\n",
       "      <td>P1_W2_S3</td>\n",
       "      <td>Big muscles are not necessarily strong ones</td>\n",
       "    </tr>\n",
       "    <tr>\n",
       "      <th>6</th>\n",
       "      <td>Test7</td>\n",
       "      <td>P1_W2_S2</td>\n",
       "      <td>You want him to do well</td>\n",
       "    </tr>\n",
       "    <tr>\n",
       "      <th>7</th>\n",
       "      <td>Test8</td>\n",
       "      <td>P1_W2_S1</td>\n",
       "      <td>I think I'm getting better.</td>\n",
       "    </tr>\n",
       "  </tbody>\n",
       "</table>\n",
       "</div>"
      ],
      "text/plain": [
       "  INPUT_SENTENCE      NAME                                     SENTENCES\n",
       "0          Test1  P1_W1_S4  Enjoy the fair weather while in the tropics.\n",
       "1          Test2  P1_W1_S3            You're used to being on the field.\n",
       "2          Test3  P1_W1_S2                 The ballet is about to begin.\n",
       "3          Test4  P1_W1_S1                     We picked grapes for wine\n",
       "4          Test5  P1_W2_S4  he is capable and willing to make decisions.\n",
       "5          Test6  P1_W2_S3   Big muscles are not necessarily strong ones\n",
       "6          Test7  P1_W2_S2                       You want him to do well\n",
       "7          Test8  P1_W2_S1                   I think I'm getting better."
      ]
     },
     "execution_count": 8,
     "metadata": {},
     "output_type": "execute_result"
    }
   ],
   "source": [
    "df3"
   ]
  },
  {
   "cell_type": "code",
   "execution_count": 10,
   "id": "ea36c936",
   "metadata": {},
   "outputs": [],
   "source": [
    "list_sentences = list(df3['SENTENCES'])\n",
    "list_input_sentences = list(df3['INPUT_SENTENCE'])"
   ]
  },
  {
   "cell_type": "code",
   "execution_count": 20,
   "id": "77b159ba",
   "metadata": {},
   "outputs": [],
   "source": [
    "df3_List = []\n",
    "for i in range(len(list_sentences)):\n",
    "    ratio = SequenceMatcher(None, list_sentences[i].lower(), list_input_sentences[i].lower()).ratio()\n",
    "    df3_List.append(ratio)\n",
    "\n",
    "df3[\"SENTENCES\"] = pd.DataFrame(df3['SENTENCES'])\n",
    "df3[\"INPUT_SENTENCE\"] = pd.DataFrame(df3['INPUT_SENTENCE'])\n",
    "df3[\"NAME\"] = pd.DataFrame(df3['NAME'])\n",
    "\n",
    "# Adding a Frame of Intelligibility Score\n",
    "df3[\"INTELLIGIBILITY_SCORE\"] = pd.DataFrame(df3_List)\n",
    "\n",
    "# Exporting a CSV frame\n",
    "df3.to_csv(\n",
    "    f\"Intelligibility_Score/Intelligibility_Score1.csv\", index=None)\n",
    "\n",
    "writer = pd.ExcelWriter('Intelligibility_Score/Intelligibility_Score.xlsx', engine='xlsxwriter')\n",
    "\n",
    "# Exporting to Excel Frame\n",
    "df3.to_excel(writer, sheet_name='Score_1')\n",
    "\n",
    "writer.save()"
   ]
  },
  {
   "cell_type": "code",
   "execution_count": null,
   "id": "1ee51d37",
   "metadata": {},
   "outputs": [],
   "source": []
  }
 ],
 "metadata": {
  "kernelspec": {
   "display_name": "Python 3 (ipykernel)",
   "language": "python",
   "name": "python3"
  },
  "language_info": {
   "codemirror_mode": {
    "name": "ipython",
    "version": 3
   },
   "file_extension": ".py",
   "mimetype": "text/x-python",
   "name": "python",
   "nbconvert_exporter": "python",
   "pygments_lexer": "ipython3",
   "version": "3.9.7"
  }
 },
 "nbformat": 4,
 "nbformat_minor": 5
}
